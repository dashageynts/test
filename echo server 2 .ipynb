{
 "cells": [
  {
   "cell_type": "code",
   "execution_count": null,
   "metadata": {},
   "outputs": [],
   "source": [
    "import socket\n",
    "import datetime\n",
    "sock = socket.socket()\n",
    "PORT = int(input('Введите номер порта: '))\n",
    "HOST = input('Введите имя хоста: ')\n",
    "if not HOST:\n",
    "    sock.connect(('localhost', PORT))\n",
    "else:\n",
    "    sock.connect((HOST, PORT))\n",
    "address = sock.getsockname()[0]\n",
    "sock.send(address.encode('utf-8'))\n",
    "print(f'{datetime.datetime.now()} Создано соединение с сервером')\n",
    "data1 = sock.recv(1024).decode('utf-8')\n",
    "if data1 == 'None':\n",
    "    name = input('Введите свое имя: ')\n",
    "    sock.send(name.encode('utf-8'))\n",
    "    password = input('Введите пароль: ')\n",
    "    sock.send(password.encode('utf-8'))\n",
    "    mes1 = 'ok'\n",
    "else:\n",
    "    password = input('Введите пароль: ')\n",
    "    sock.send(password.encode('utf-8'))\n",
    "    mes1 = sock.recv(1024).decode('utf-8')\n",
    "    if mes1 != 'exit':\n",
    "        print(f'Добро пожаловать, {data1}')\n",
    "while True:\n",
    "    if mes1 == 'exit':\n",
    "        print('Неверный пароль\\nРазрыв соединения с сервером')\n",
    "        break\n",
    "    mes = input('Введите сообщение: ')\n",
    "    if mes == 'exit':\n",
    "        print('Разрыв соединения с сервером')\n",
    "        break\n",
    "    sock.send(mes.encode('utf-8'))\n",
    "    data = sock.recv(1024)\n",
    "    print(f'{datetime.datetime.now()} Получено:', data.decode('utf-8'))\n",
    "sock.close()"
   ]
  },
  {
   "cell_type": "code",
   "execution_count": null,
   "metadata": {},
   "outputs": [],
   "source": []
  },
  {
   "cell_type": "code",
   "execution_count": null,
   "metadata": {},
   "outputs": [],
   "source": []
  }
 ],
 "metadata": {
  "kernelspec": {
   "display_name": "Python 3",
   "language": "python",
   "name": "python3"
  },
  "language_info": {
   "codemirror_mode": {
    "name": "ipython",
    "version": 3
   },
   "file_extension": ".py",
   "mimetype": "text/x-python",
   "name": "python",
   "nbconvert_exporter": "python",
   "pygments_lexer": "ipython3",
   "version": "3.8.3"
  }
 },
 "nbformat": 4,
 "nbformat_minor": 5
}
